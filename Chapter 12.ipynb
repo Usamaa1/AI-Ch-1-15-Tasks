{
 "cells": [
  {
   "cell_type": "code",
   "execution_count": 4,
   "metadata": {},
   "outputs": [
    {
     "name": "stdout",
     "output_type": "stream",
     "text": [
      "join gym\n"
     ]
    }
   ],
   "source": [
    "FaikWeight = 70;\n",
    "FawadWeight = 72;\n",
    "usamaWeihgt = 53;\n",
    "\n",
    "FAge = 24;\n",
    "FaAge = 19;\n",
    "UAge = 23;\n",
    "\n",
    "if FaikWeight > 65 and FAge >20:\n",
    "    print(\"join gym\");\n",
    "elif FawadWeight < 65 or (FaAge < 30 and UAge > 18):\n",
    "    print(\"problem !!\");"
   ]
  }
 ],
 "metadata": {
  "kernelspec": {
   "display_name": "Python 3",
   "language": "python",
   "name": "python3"
  },
  "language_info": {
   "codemirror_mode": {
    "name": "ipython",
    "version": 3
   },
   "file_extension": ".py",
   "mimetype": "text/x-python",
   "name": "python",
   "nbconvert_exporter": "python",
   "pygments_lexer": "ipython3",
   "version": "3.6.5"
  }
 },
 "nbformat": 4,
 "nbformat_minor": 2
}
