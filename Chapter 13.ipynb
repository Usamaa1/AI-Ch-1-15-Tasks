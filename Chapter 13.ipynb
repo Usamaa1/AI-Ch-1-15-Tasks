{
 "cells": [
  {
   "cell_type": "code",
   "execution_count": 4,
   "metadata": {},
   "outputs": [
    {
     "name": "stdout",
     "output_type": "stream",
     "text": [
      "name is cleared !!\n",
      "identified\n"
     ]
    }
   ],
   "source": [
    "name = \"Usama\"\n",
    "studentId = \"1500-2015\";\n",
    "\n",
    "if name == \"Usama\":\n",
    "    print(\"name is cleared !!\");\n",
    "    if studentId == \"1500-2015\":\n",
    "        print(\"identified\");\n",
    "    else:\n",
    "        print(\"wrong person\");\n"
   ]
  },
  {
   "cell_type": "code",
   "execution_count": null,
   "metadata": {},
   "outputs": [],
   "source": []
  }
 ],
 "metadata": {
  "kernelspec": {
   "display_name": "Python 3",
   "language": "python",
   "name": "python3"
  },
  "language_info": {
   "codemirror_mode": {
    "name": "ipython",
    "version": 3
   },
   "file_extension": ".py",
   "mimetype": "text/x-python",
   "name": "python",
   "nbconvert_exporter": "python",
   "pygments_lexer": "ipython3",
   "version": "3.6.5"
  }
 },
 "nbformat": 4,
 "nbformat_minor": 2
}
