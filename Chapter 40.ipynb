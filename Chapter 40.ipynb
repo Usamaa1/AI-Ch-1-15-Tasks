{
 "cells": [
  {
   "cell_type": "code",
   "execution_count": 2,
   "metadata": {},
   "outputs": [
    {
     "name": "stdout",
     "output_type": "stream",
     "text": [
      "{'First name': 'Muhammad', 'Middle name': 'Usama', 'Last name': 'Riaz', 'Address': 'North Nazimabad'}\n",
      "{'First Name': 'Muhammad', 'Middle name': 'Aashir', 'Last Name': 'Araien', 'Address': 'Gulshan'}\n",
      "{'First Name': 'Asad', 'Middle name': 'Addy', 'Last Name': 'Ikhlas', 'Address': 'F.B area'}\n"
     ]
    }
   ],
   "source": [
    "customers = {\n",
    "  0:  {\n",
    "         \"First name\":\"Muhammad\",\n",
    "         \"Middle name\": \"Usama\",\n",
    "         \"Last name\": \"Riaz\",\n",
    "         \"Address\": \"North Nazimabad\", \n",
    "    },\n",
    " 1:  {\n",
    "        \"First Name\":\"Muhammad\",\n",
    "      \"Middle name\": \"Aashir\",\n",
    "        \"Last Name\": \"Araien\",\n",
    "        \"Address\": \"Gulshan\", \n",
    "    },\n",
    " 2:   { \n",
    "        \"First Name\":\"Asad\",\n",
    "     \"Middle name\": \"Addy\",\n",
    "        \"Last Name\": \"Ikhlas\",\n",
    "        \"Address\": \"F.B area\", \n",
    "    },\n",
    "}\n",
    "print(customers[0])\n",
    "print(customers[1])\n",
    "print(customers[2])"
   ]
  }
 ],
 "metadata": {
  "kernelspec": {
   "display_name": "Python 3",
   "language": "python",
   "name": "python3"
  },
  "language_info": {
   "codemirror_mode": {
    "name": "ipython",
    "version": 3
   },
   "file_extension": ".py",
   "mimetype": "text/x-python",
   "name": "python",
   "nbconvert_exporter": "python",
   "pygments_lexer": "ipython3",
   "version": "3.6.5"
  }
 },
 "nbformat": 4,
 "nbformat_minor": 2
}
