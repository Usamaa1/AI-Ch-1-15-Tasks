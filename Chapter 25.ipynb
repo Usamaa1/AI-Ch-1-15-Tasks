{
 "cells": [
  {
   "cell_type": "code",
   "execution_count": 1,
   "metadata": {},
   "outputs": [
    {
     "name": "stdout",
     "output_type": "stream",
     "text": [
      "{'Name': 'Usama Riaz', 'Age': '21', 'DOB': '29/05/1997', 'Location': 'Karachi'}\n"
     ]
    }
   ],
   "source": [
    "BioData = {\n",
    "  \"Name\": \"Usama Riaz\",\n",
    "  \"Age\": \"21\",\n",
    "  \"DOB\": \"29/05/1997\",\n",
    "  \"Location\": \"Karachi\"\n",
    "}\n",
    "print(BioData)\n"
   ]
  }
 ],
 "metadata": {
  "kernelspec": {
   "display_name": "Python 3",
   "language": "python",
   "name": "python3"
  },
  "language_info": {
   "codemirror_mode": {
    "name": "ipython",
    "version": 3
   },
   "file_extension": ".py",
   "mimetype": "text/x-python",
   "name": "python",
   "nbconvert_exporter": "python",
   "pygments_lexer": "ipython3",
   "version": "3.6.5"
  }
 },
 "nbformat": 4,
 "nbformat_minor": 2
}
