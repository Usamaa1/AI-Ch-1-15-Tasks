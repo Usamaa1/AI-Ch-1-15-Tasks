{
 "cells": [
  {
   "cell_type": "code",
   "execution_count": 3,
   "metadata": {},
   "outputs": [
    {
     "name": "stdout",
     "output_type": "stream",
     "text": [
      "The result of 34 squared is 1156\n"
     ]
    }
   ],
   "source": [
    "def square(x):\n",
    "    y = x*x\n",
    "    return y\n",
    "toSquare = 34\n",
    "result = square(toSquare)\n",
    "\n",
    "print (\"The result of \" + str(toSquare) + \" squared is \" + str(result))"
   ]
  }
 ],
 "metadata": {
  "kernelspec": {
   "display_name": "Python 3",
   "language": "python",
   "name": "python3"
  },
  "language_info": {
   "codemirror_mode": {
    "name": "ipython",
    "version": 3
   },
   "file_extension": ".py",
   "mimetype": "text/x-python",
   "name": "python",
   "nbconvert_exporter": "python",
   "pygments_lexer": "ipython3",
   "version": "3.6.5"
  }
 },
 "nbformat": 4,
 "nbformat_minor": 2
}
