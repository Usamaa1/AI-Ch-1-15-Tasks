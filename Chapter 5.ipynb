{
 "cells": [
  {
   "cell_type": "code",
   "execution_count": 5,
   "metadata": {},
   "outputs": [
    {
     "name": "stdout",
     "output_type": "stream",
     "text": [
      "47\n",
      "35\n",
      "2.3333333333333335\n",
      "525\n",
      "20\n"
     ]
    }
   ],
   "source": [
    "num1 = 32;\n",
    "num2 = 15;\n",
    "x = num1 + num2;\n",
    "num1 += 3;\n",
    "z = num1 / num2;\n",
    "a = num1 * num2;\n",
    "f = num1 - num2;\n",
    "print(x);\n",
    "\n",
    "print(num1);\n",
    "\n",
    "print(z);\n",
    "print(a);\n",
    "print(f);"
   ]
  }
 ],
 "metadata": {
  "kernelspec": {
   "display_name": "Python 3",
   "language": "python",
   "name": "python3"
  },
  "language_info": {
   "codemirror_mode": {
    "name": "ipython",
    "version": 3
   },
   "file_extension": ".py",
   "mimetype": "text/x-python",
   "name": "python",
   "nbconvert_exporter": "python",
   "pygments_lexer": "ipython3",
   "version": "3.6.5"
  }
 },
 "nbformat": 4,
 "nbformat_minor": 2
}
