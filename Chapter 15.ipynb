{
 "cells": [
  {
   "cell_type": "code",
   "execution_count": 5,
   "metadata": {},
   "outputs": [
    {
     "name": "stdout",
     "output_type": "stream",
     "text": [
      "Zinger and  Broast, both are in Fast Food!\n"
     ]
    }
   ],
   "source": [
    "foods = [ \"Drumsticks\", \"Zinger\", \"Karahi\", \"Qorma\", \"Salad\", \"Kabab\", \"Broast\" ];\n",
    "\n",
    "print(str(foods[1]) + \" and  \" + str(foods[6])+\", both are in Fast Food!\");"
   ]
  }
 ],
 "metadata": {
  "kernelspec": {
   "display_name": "Python 3",
   "language": "python",
   "name": "python3"
  },
  "language_info": {
   "codemirror_mode": {
    "name": "ipython",
    "version": 3
   },
   "file_extension": ".py",
   "mimetype": "text/x-python",
   "name": "python",
   "nbconvert_exporter": "python",
   "pygments_lexer": "ipython3",
   "version": "3.6.5"
  }
 },
 "nbformat": 4,
 "nbformat_minor": 2
}
