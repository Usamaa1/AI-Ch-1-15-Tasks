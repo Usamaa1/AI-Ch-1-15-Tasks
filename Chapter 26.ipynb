{
 "cells": [
  {
   "cell_type": "code",
   "execution_count": 1,
   "metadata": {},
   "outputs": [
    {
     "name": "stdout",
     "output_type": "stream",
     "text": [
      "Name: Usama Riaz\n",
      "ID: 1500-2015\n",
      "Age: 21\n",
      "DOB: 29/05/1997\n",
      "Location: Karachi\n"
     ]
    }
   ],
   "source": [
    "UsamaData = {\n",
    "  \"Name:\": \"Usama Riaz\",\n",
    "  \"ID:\": \"1500-2015\",\n",
    "  \"Age:\": \"21\",\n",
    "  \"DOB:\": \"29/05/1997\",\n",
    "  \"Location:\": \"Karachi\"\n",
    "}\n",
    "\n",
    "for a,b in UsamaData.items():\n",
    "    print(a,b)"
   ]
  }
 ],
 "metadata": {
  "kernelspec": {
   "display_name": "Python 3",
   "language": "python",
   "name": "python3"
  },
  "language_info": {
   "codemirror_mode": {
    "name": "ipython",
    "version": 3
   },
   "file_extension": ".py",
   "mimetype": "text/x-python",
   "name": "python",
   "nbconvert_exporter": "python",
   "pygments_lexer": "ipython3",
   "version": "3.6.5"
  }
 },
 "nbformat": 4,
 "nbformat_minor": 2
}
