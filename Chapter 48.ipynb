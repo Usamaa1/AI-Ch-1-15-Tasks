{
 "cells": [
  {
   "cell_type": "code",
   "execution_count": 3,
   "metadata": {},
   "outputs": [
    {
     "name": "stdout",
     "output_type": "stream",
     "text": [
      "Hello Usama, this is function one\n",
      "Hello Usama, this is function two\n",
      "Hello Usama, this is function three\n"
     ]
    }
   ],
   "source": [
    "def one():\n",
    "    print(\"Hello Usama, this is function one\")\n",
    "def two():\n",
    "    print(\"Hello Usama, this is function two\")\n",
    "def three():\n",
    "    print(\"Hello Usama, this is function three\")\n",
    "    \n",
    "f1 = one\n",
    "f2 = two\n",
    "f3 = three\n",
    "func_list = [f1, f2, f3]\n",
    "for f in func_list:\n",
    "    f()"
   ]
  }
 ],
 "metadata": {
  "kernelspec": {
   "display_name": "Python 3",
   "language": "python",
   "name": "python3"
  },
  "language_info": {
   "codemirror_mode": {
    "name": "ipython",
    "version": 3
   },
   "file_extension": ".py",
   "mimetype": "text/x-python",
   "name": "python",
   "nbconvert_exporter": "python",
   "pygments_lexer": "ipython3",
   "version": "3.6.5"
  }
 },
 "nbformat": 4,
 "nbformat_minor": 2
}
